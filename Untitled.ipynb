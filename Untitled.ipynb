{
 "cells": [
  {
   "cell_type": "code",
   "execution_count": 3,
   "id": "736a6986",
   "metadata": {},
   "outputs": [],
   "source": [
    "import time\n",
    "import kneed\n",
    "import requests\n",
    "import numpy as np\n",
    "import pandas as pd\n",
    "from tqdm import tqdm\n",
    "import seaborn as sns\n",
    "import ipywidgets as widgets \n",
    "from scipy.stats import mstats\n",
    "import matplotlib.pyplot as plt\n",
    "from sklearn.cluster import KMeans\n",
    "from datetime import datetime, timedelta\n",
    "from requests.adapters import HTTPAdapter\n",
    "from requests.exceptions import ConnectionError\n",
    "from requests.packages.urllib3.util.retry import Retry"
   ]
  },
  {
   "cell_type": "code",
   "execution_count": 2,
   "id": "79b63869",
   "metadata": {},
   "outputs": [
    {
     "name": "stdout",
     "output_type": "stream",
     "text": [
      "Collecting kneed\n",
      "  Downloading kneed-0.7.0-py2.py3-none-any.whl (9.4 kB)\n",
      "Requirement already satisfied: numpy>=1.14.2 in c:\\users\\proma.gupta\\anaconda3\\lib\\site-packages (from kneed) (1.21.5)\n",
      "Requirement already satisfied: scipy in c:\\users\\proma.gupta\\anaconda3\\lib\\site-packages (from kneed) (1.7.3)\n",
      "Requirement already satisfied: matplotlib in c:\\users\\proma.gupta\\anaconda3\\lib\\site-packages (from kneed) (3.5.1)\n",
      "Requirement already satisfied: python-dateutil>=2.7 in c:\\users\\proma.gupta\\anaconda3\\lib\\site-packages (from matplotlib->kneed) (2.8.2)\n",
      "Requirement already satisfied: pyparsing>=2.2.1 in c:\\users\\proma.gupta\\anaconda3\\lib\\site-packages (from matplotlib->kneed) (3.0.4)\n",
      "Requirement already satisfied: pillow>=6.2.0 in c:\\users\\proma.gupta\\anaconda3\\lib\\site-packages (from matplotlib->kneed) (9.0.1)\n",
      "Requirement already satisfied: kiwisolver>=1.0.1 in c:\\users\\proma.gupta\\anaconda3\\lib\\site-packages (from matplotlib->kneed) (1.3.2)\n",
      "Requirement already satisfied: fonttools>=4.22.0 in c:\\users\\proma.gupta\\anaconda3\\lib\\site-packages (from matplotlib->kneed) (4.25.0)\n",
      "Requirement already satisfied: packaging>=20.0 in c:\\users\\proma.gupta\\anaconda3\\lib\\site-packages (from matplotlib->kneed) (21.3)\n",
      "Requirement already satisfied: cycler>=0.10 in c:\\users\\proma.gupta\\anaconda3\\lib\\site-packages (from matplotlib->kneed) (0.11.0)\n",
      "Requirement already satisfied: six>=1.5 in c:\\users\\proma.gupta\\anaconda3\\lib\\site-packages (from python-dateutil>=2.7->matplotlib->kneed) (1.16.0)\n",
      "Installing collected packages: kneed\n",
      "Successfully installed kneed-0.7.0\n"
     ]
    }
   ],
   "source": [
    "!pip install kneed\n"
   ]
  },
  {
   "cell_type": "code",
   "execution_count": 4,
   "id": "88b22e8e",
   "metadata": {},
   "outputs": [],
   "source": [
    "## 1. Get the data: Revenue per share and Return on Assets for the end of 2021 Q1 for members of the S&P 500\n",
    "\n",
    "def get_tickers():\n",
    "    wiki_page = requests.get('https://en.wikipedia.org/wiki/List_of_S%26P_500_companies').text\n",
    "    sp_data = pd.read_html(wiki_page)\n",
    "    ticker_df = sp_data[0]\n",
    "    ticker_options = ticker_df['Symbol']\n",
    "    return ticker_options"
   ]
  },
  {
   "cell_type": "code",
   "execution_count": 5,
   "id": "78ba346a",
   "metadata": {},
   "outputs": [
    {
     "name": "stdout",
     "output_type": "stream",
     "text": [
      "503\n"
     ]
    }
   ],
   "source": [
    "# Run the ticker scrape function\n",
    "# Let's convert the get_tickers() output to a list and \n",
    "# replace tickers that have '.' with '-' so we can use AlphaWave Data APIs\n",
    "\n",
    "stock_tickers = get_tickers()\n",
    "stock_tickers = stock_tickers.to_list()\n",
    "for ticker in range(len(stock_tickers)):\n",
    "    stock_tickers[ticker] = stock_tickers[ticker].upper().replace(\".\", \"-\")\n",
    "\n",
    "print (len(stock_tickers))\n",
    "# stock_tickers"
   ]
  },
  {
   "cell_type": "code",
   "execution_count": 8,
   "id": "838fa8b7",
   "metadata": {},
   "outputs": [
    {
     "name": "stderr",
     "output_type": "stream",
     "text": [
      "C:\\Users\\proma.gupta\\AppData\\Local\\Temp\\ipykernel_20080\\626262920.py:9: DeprecationWarning: Using 'method_whitelist' with Retry is deprecated and will be removed in v2.0. Use 'allowed_methods' instead\n",
      "  retry_strategy = Retry(total=3, backoff_factor=10, status_forcelist=[429, 500, 502, 503, 504], method_whitelist=[\"HEAD\", \"GET\", \"PUT\", \"DELETE\", \"OPTIONS\", \"TRACE\"])\n",
      "Retrieving AlphaWave Data Stock Info: 100%|██████████████████████████████████████████| 503/503 [25:13<00:00,  3.01s/it]\n"
     ]
    },
    {
     "ename": "NameError",
     "evalue": "name 'data' is not defined",
     "output_type": "error",
     "traceback": [
      "\u001b[1;31m---------------------------------------------------------------------------\u001b[0m",
      "\u001b[1;31mNameError\u001b[0m                                 Traceback (most recent call last)",
      "Input \u001b[1;32mIn [8]\u001b[0m, in \u001b[0;36m<cell line: 52>\u001b[1;34m()\u001b[0m\n\u001b[0;32m     49\u001b[0m         \u001b[38;5;28;01mpass\u001b[39;00m\n\u001b[0;32m     51\u001b[0m \u001b[38;5;66;03m#data = pd.concat(alphawave_data, ignore_index=False)\u001b[39;00m\n\u001b[1;32m---> 52\u001b[0m \u001b[43mdata\u001b[49m\n",
      "\u001b[1;31mNameError\u001b[0m: name 'data' is not defined"
     ]
    }
   ],
   "source": [
    "# Fetch AlphaWave Data's fundamental stock information\n",
    "key_stats_url = \"https://stock-analysis.p.rapidapi.com/api/v1/resources/key-stats\"\n",
    "\n",
    "headers = {\n",
    "    'x-rapidapi-host': \"YOUR_X-RAPIDAPI-HOST_WILL_COPY_DIRECTLY_FROM_RAPIDAPI_PYTHON_CODE_SNIPPETS\",\n",
    "    'x-rapidapi-key': \"YOUR_X-RAPIDAPI-KEY_WILL_COPY_DIRECTLY_FROM_RAPIDAPI_PYTHON_CODE_SNIPPETS\"\n",
    "    }\n",
    "\n",
    "retry_strategy = Retry(total=3, backoff_factor=10, status_forcelist=[429, 500, 502, 503, 504], method_whitelist=[\"HEAD\", \"GET\", \"PUT\", \"DELETE\", \"OPTIONS\", \"TRACE\"])\n",
    "rapid_api_adapter = HTTPAdapter(max_retries=retry_strategy)\n",
    "http = requests.Session()\n",
    "http.mount(\"https://\", rapid_api_adapter)\n",
    "\n",
    "alphawave_data = []\n",
    "\n",
    "for ticker in tqdm(stock_tickers, position=0, leave=True, desc = \"Retrieving AlphaWave Data Stock Info\"):\n",
    "    \n",
    "    querystring = {\"ticker\":ticker}\n",
    "    time.sleep(3)\n",
    "    \n",
    "    try:\n",
    "        \n",
    "        # Get Key Stats\n",
    "        key_stats_response = http.get(key_stats_url, headers=key_stats_headers, params=querystring, timeout=(5, 5))\n",
    "        key_stats_response.raise_for_status()\n",
    "        key_stats_df = pd.DataFrame.from_dict(key_stats_response.json())\n",
    "        key_stats_df = key_stats_df.transpose()\n",
    "\n",
    "        roa = key_stats_df.loc[r'Return on assets (ttm)'][0]\n",
    "        rev_per_share = key_stats_df.loc[r'Revenue per share (ttm)'][0]\n",
    "\n",
    "        # Create Dataframe\n",
    "        df = pd.DataFrame({'Return on Assets': roa,\n",
    "                           'Rev per share': rev_per_share},\n",
    "                          index=[ticker])\n",
    "\n",
    "        alphawave_data.append(df)\n",
    "\n",
    "    except requests.exceptions.RequestException as err:\n",
    "        print (\"OOps: Something Else\",err)\n",
    "    except requests.exceptions.HTTPError as errh:\n",
    "        print (\"Http Error:\",errh)\n",
    "    except requests.exceptions.ConnectionError as errc:\n",
    "        print (\"Error Connecting:\",errc)\n",
    "    except requests.exceptions.Timeout as errt:\n",
    "        print (\"Timeout Error:\",errt)\n",
    "        \n",
    "    except:\n",
    "        pass"
   ]
  },
  {
   "cell_type": "code",
   "execution_count": 15,
   "id": "dbb972f6",
   "metadata": {},
   "outputs": [
    {
     "ename": "NameError",
     "evalue": "name 'df' is not defined",
     "output_type": "error",
     "traceback": [
      "\u001b[1;31m---------------------------------------------------------------------------\u001b[0m",
      "\u001b[1;31mNameError\u001b[0m                                 Traceback (most recent call last)",
      "Input \u001b[1;32mIn [15]\u001b[0m, in \u001b[0;36m<cell line: 1>\u001b[1;34m()\u001b[0m\n\u001b[1;32m----> 1\u001b[0m \u001b[43mdf\u001b[49m\n",
      "\u001b[1;31mNameError\u001b[0m: name 'df' is not defined"
     ]
    }
   ],
   "source": [
    "df"
   ]
  },
  {
   "cell_type": "code",
   "execution_count": null,
   "id": "59cd1d08",
   "metadata": {},
   "outputs": [],
   "source": []
  },
  {
   "cell_type": "code",
   "execution_count": 14,
   "id": "6cce5f54",
   "metadata": {},
   "outputs": [
    {
     "ename": "ValueError",
     "evalue": "No objects to concatenate",
     "output_type": "error",
     "traceback": [
      "\u001b[1;31m---------------------------------------------------------------------------\u001b[0m",
      "\u001b[1;31mValueError\u001b[0m                                Traceback (most recent call last)",
      "Input \u001b[1;32mIn [14]\u001b[0m, in \u001b[0;36m<cell line: 1>\u001b[1;34m()\u001b[0m\n\u001b[1;32m----> 1\u001b[0m data \u001b[38;5;241m=\u001b[39m \u001b[43mpd\u001b[49m\u001b[38;5;241;43m.\u001b[39;49m\u001b[43mconcat\u001b[49m\u001b[43m(\u001b[49m\u001b[43malphawave_data\u001b[49m\u001b[43m,\u001b[49m\u001b[43m \u001b[49m\u001b[43mignore_index\u001b[49m\u001b[38;5;241;43m=\u001b[39;49m\u001b[38;5;28;43;01mFalse\u001b[39;49;00m\u001b[43m)\u001b[49m\n\u001b[0;32m      2\u001b[0m data\n",
      "File \u001b[1;32m~\\Anaconda3\\lib\\site-packages\\pandas\\util\\_decorators.py:311\u001b[0m, in \u001b[0;36mdeprecate_nonkeyword_arguments.<locals>.decorate.<locals>.wrapper\u001b[1;34m(*args, **kwargs)\u001b[0m\n\u001b[0;32m    305\u001b[0m \u001b[38;5;28;01mif\u001b[39;00m \u001b[38;5;28mlen\u001b[39m(args) \u001b[38;5;241m>\u001b[39m num_allow_args:\n\u001b[0;32m    306\u001b[0m     warnings\u001b[38;5;241m.\u001b[39mwarn(\n\u001b[0;32m    307\u001b[0m         msg\u001b[38;5;241m.\u001b[39mformat(arguments\u001b[38;5;241m=\u001b[39marguments),\n\u001b[0;32m    308\u001b[0m         \u001b[38;5;167;01mFutureWarning\u001b[39;00m,\n\u001b[0;32m    309\u001b[0m         stacklevel\u001b[38;5;241m=\u001b[39mstacklevel,\n\u001b[0;32m    310\u001b[0m     )\n\u001b[1;32m--> 311\u001b[0m \u001b[38;5;28;01mreturn\u001b[39;00m func(\u001b[38;5;241m*\u001b[39margs, \u001b[38;5;241m*\u001b[39m\u001b[38;5;241m*\u001b[39mkwargs)\n",
      "File \u001b[1;32m~\\Anaconda3\\lib\\site-packages\\pandas\\core\\reshape\\concat.py:347\u001b[0m, in \u001b[0;36mconcat\u001b[1;34m(objs, axis, join, ignore_index, keys, levels, names, verify_integrity, sort, copy)\u001b[0m\n\u001b[0;32m    143\u001b[0m \u001b[38;5;129m@deprecate_nonkeyword_arguments\u001b[39m(version\u001b[38;5;241m=\u001b[39m\u001b[38;5;28;01mNone\u001b[39;00m, allowed_args\u001b[38;5;241m=\u001b[39m[\u001b[38;5;124m\"\u001b[39m\u001b[38;5;124mobjs\u001b[39m\u001b[38;5;124m\"\u001b[39m])\n\u001b[0;32m    144\u001b[0m \u001b[38;5;28;01mdef\u001b[39;00m \u001b[38;5;21mconcat\u001b[39m(\n\u001b[0;32m    145\u001b[0m     objs: Iterable[NDFrame] \u001b[38;5;241m|\u001b[39m Mapping[Hashable, NDFrame],\n\u001b[1;32m   (...)\u001b[0m\n\u001b[0;32m    154\u001b[0m     copy: \u001b[38;5;28mbool\u001b[39m \u001b[38;5;241m=\u001b[39m \u001b[38;5;28;01mTrue\u001b[39;00m,\n\u001b[0;32m    155\u001b[0m ) \u001b[38;5;241m-\u001b[39m\u001b[38;5;241m>\u001b[39m DataFrame \u001b[38;5;241m|\u001b[39m Series:\n\u001b[0;32m    156\u001b[0m     \u001b[38;5;124;03m\"\"\"\u001b[39;00m\n\u001b[0;32m    157\u001b[0m \u001b[38;5;124;03m    Concatenate pandas objects along a particular axis with optional set logic\u001b[39;00m\n\u001b[0;32m    158\u001b[0m \u001b[38;5;124;03m    along the other axes.\u001b[39;00m\n\u001b[1;32m   (...)\u001b[0m\n\u001b[0;32m    345\u001b[0m \u001b[38;5;124;03m    ValueError: Indexes have overlapping values: ['a']\u001b[39;00m\n\u001b[0;32m    346\u001b[0m \u001b[38;5;124;03m    \"\"\"\u001b[39;00m\n\u001b[1;32m--> 347\u001b[0m     op \u001b[38;5;241m=\u001b[39m \u001b[43m_Concatenator\u001b[49m\u001b[43m(\u001b[49m\n\u001b[0;32m    348\u001b[0m \u001b[43m        \u001b[49m\u001b[43mobjs\u001b[49m\u001b[43m,\u001b[49m\n\u001b[0;32m    349\u001b[0m \u001b[43m        \u001b[49m\u001b[43maxis\u001b[49m\u001b[38;5;241;43m=\u001b[39;49m\u001b[43maxis\u001b[49m\u001b[43m,\u001b[49m\n\u001b[0;32m    350\u001b[0m \u001b[43m        \u001b[49m\u001b[43mignore_index\u001b[49m\u001b[38;5;241;43m=\u001b[39;49m\u001b[43mignore_index\u001b[49m\u001b[43m,\u001b[49m\n\u001b[0;32m    351\u001b[0m \u001b[43m        \u001b[49m\u001b[43mjoin\u001b[49m\u001b[38;5;241;43m=\u001b[39;49m\u001b[43mjoin\u001b[49m\u001b[43m,\u001b[49m\n\u001b[0;32m    352\u001b[0m \u001b[43m        \u001b[49m\u001b[43mkeys\u001b[49m\u001b[38;5;241;43m=\u001b[39;49m\u001b[43mkeys\u001b[49m\u001b[43m,\u001b[49m\n\u001b[0;32m    353\u001b[0m \u001b[43m        \u001b[49m\u001b[43mlevels\u001b[49m\u001b[38;5;241;43m=\u001b[39;49m\u001b[43mlevels\u001b[49m\u001b[43m,\u001b[49m\n\u001b[0;32m    354\u001b[0m \u001b[43m        \u001b[49m\u001b[43mnames\u001b[49m\u001b[38;5;241;43m=\u001b[39;49m\u001b[43mnames\u001b[49m\u001b[43m,\u001b[49m\n\u001b[0;32m    355\u001b[0m \u001b[43m        \u001b[49m\u001b[43mverify_integrity\u001b[49m\u001b[38;5;241;43m=\u001b[39;49m\u001b[43mverify_integrity\u001b[49m\u001b[43m,\u001b[49m\n\u001b[0;32m    356\u001b[0m \u001b[43m        \u001b[49m\u001b[43mcopy\u001b[49m\u001b[38;5;241;43m=\u001b[39;49m\u001b[43mcopy\u001b[49m\u001b[43m,\u001b[49m\n\u001b[0;32m    357\u001b[0m \u001b[43m        \u001b[49m\u001b[43msort\u001b[49m\u001b[38;5;241;43m=\u001b[39;49m\u001b[43msort\u001b[49m\u001b[43m,\u001b[49m\n\u001b[0;32m    358\u001b[0m \u001b[43m    \u001b[49m\u001b[43m)\u001b[49m\n\u001b[0;32m    360\u001b[0m     \u001b[38;5;28;01mreturn\u001b[39;00m op\u001b[38;5;241m.\u001b[39mget_result()\n",
      "File \u001b[1;32m~\\Anaconda3\\lib\\site-packages\\pandas\\core\\reshape\\concat.py:404\u001b[0m, in \u001b[0;36m_Concatenator.__init__\u001b[1;34m(self, objs, axis, join, keys, levels, names, ignore_index, verify_integrity, copy, sort)\u001b[0m\n\u001b[0;32m    401\u001b[0m     objs \u001b[38;5;241m=\u001b[39m \u001b[38;5;28mlist\u001b[39m(objs)\n\u001b[0;32m    403\u001b[0m \u001b[38;5;28;01mif\u001b[39;00m \u001b[38;5;28mlen\u001b[39m(objs) \u001b[38;5;241m==\u001b[39m \u001b[38;5;241m0\u001b[39m:\n\u001b[1;32m--> 404\u001b[0m     \u001b[38;5;28;01mraise\u001b[39;00m \u001b[38;5;167;01mValueError\u001b[39;00m(\u001b[38;5;124m\"\u001b[39m\u001b[38;5;124mNo objects to concatenate\u001b[39m\u001b[38;5;124m\"\u001b[39m)\n\u001b[0;32m    406\u001b[0m \u001b[38;5;28;01mif\u001b[39;00m keys \u001b[38;5;129;01mis\u001b[39;00m \u001b[38;5;28;01mNone\u001b[39;00m:\n\u001b[0;32m    407\u001b[0m     objs \u001b[38;5;241m=\u001b[39m \u001b[38;5;28mlist\u001b[39m(com\u001b[38;5;241m.\u001b[39mnot_none(\u001b[38;5;241m*\u001b[39mobjs))\n",
      "\u001b[1;31mValueError\u001b[0m: No objects to concatenate"
     ]
    }
   ],
   "source": [
    "data = pd.concat(alphawave_data, ignore_index=False)\n",
    "data"
   ]
  },
  {
   "cell_type": "code",
   "execution_count": 10,
   "id": "e270053a",
   "metadata": {},
   "outputs": [
    {
     "data": {
      "text/plain": [
       "[]"
      ]
     },
     "execution_count": 10,
     "metadata": {},
     "output_type": "execute_result"
    }
   ],
   "source": [
    "alphawave_data"
   ]
  },
  {
   "cell_type": "code",
   "execution_count": 12,
   "id": "b1805c15",
   "metadata": {},
   "outputs": [
    {
     "data": {
      "text/plain": [
       "[]"
      ]
     },
     "execution_count": 12,
     "metadata": {},
     "output_type": "execute_result"
    }
   ],
   "source": [
    "data = alphawave_data\n",
    "data"
   ]
  },
  {
   "cell_type": "code",
   "execution_count": 13,
   "id": "04b6b5da",
   "metadata": {},
   "outputs": [
    {
     "ename": "TypeError",
     "evalue": "list indices must be integers or slices, not list",
     "output_type": "error",
     "traceback": [
      "\u001b[1;31m---------------------------------------------------------------------------\u001b[0m",
      "\u001b[1;31mTypeError\u001b[0m                                 Traceback (most recent call last)",
      "Input \u001b[1;32mIn [13]\u001b[0m, in \u001b[0;36m<cell line: 2>\u001b[1;34m()\u001b[0m\n\u001b[0;32m      1\u001b[0m \u001b[38;5;66;03m# Remove any % characters, change string values to numeric values\u001b[39;00m\n\u001b[1;32m----> 2\u001b[0m data[[\u001b[38;5;124m\"\u001b[39m\u001b[38;5;124mReturn on Assets\u001b[39m\u001b[38;5;124m\"\u001b[39m]] \u001b[38;5;241m=\u001b[39m \u001b[43mdata\u001b[49m\u001b[43m[\u001b[49m\u001b[43m[\u001b[49m\u001b[38;5;124;43m\"\u001b[39;49m\u001b[38;5;124;43mReturn on Assets\u001b[39;49m\u001b[38;5;124;43m\"\u001b[39;49m\u001b[43m]\u001b[49m\u001b[43m]\u001b[49m\u001b[38;5;241m.\u001b[39mapply(\u001b[38;5;28;01mlambda\u001b[39;00m x: x\u001b[38;5;241m.\u001b[39mstr\u001b[38;5;241m.\u001b[39mreplace(\u001b[38;5;124m'\u001b[39m\u001b[38;5;124m[\u001b[39m\u001b[38;5;124m%\u001b[39m\u001b[38;5;124m]\u001b[39m\u001b[38;5;124m'\u001b[39m,\u001b[38;5;124m'\u001b[39m\u001b[38;5;124m'\u001b[39m, regex\u001b[38;5;241m=\u001b[39m\u001b[38;5;28;01mTrue\u001b[39;00m))\n\u001b[0;32m      3\u001b[0m data[[\u001b[38;5;124m\"\u001b[39m\u001b[38;5;124mReturn on Assets\u001b[39m\u001b[38;5;124m\"\u001b[39m, \n\u001b[0;32m      4\u001b[0m       \u001b[38;5;124m\"\u001b[39m\u001b[38;5;124mRev per share\u001b[39m\u001b[38;5;124m\"\u001b[39m]] \u001b[38;5;241m=\u001b[39m data[[\u001b[38;5;124m\"\u001b[39m\u001b[38;5;124mReturn on Assets\u001b[39m\u001b[38;5;124m\"\u001b[39m, \n\u001b[0;32m      5\u001b[0m                                    \u001b[38;5;124m\"\u001b[39m\u001b[38;5;124mRev per share\u001b[39m\u001b[38;5;124m\"\u001b[39m]]\u001b[38;5;241m.\u001b[39mapply(pd\u001b[38;5;241m.\u001b[39mto_numeric)\n\u001b[0;32m      6\u001b[0m data[[\u001b[38;5;124m\"\u001b[39m\u001b[38;5;124mReturn on Assets\u001b[39m\u001b[38;5;124m\"\u001b[39m]] \u001b[38;5;241m=\u001b[39m data[[\u001b[38;5;124m\"\u001b[39m\u001b[38;5;124mReturn on Assets\u001b[39m\u001b[38;5;124m\"\u001b[39m]]\u001b[38;5;241m.\u001b[39mapply(\u001b[38;5;28;01mlambda\u001b[39;00m x: x\u001b[38;5;241m/\u001b[39m\u001b[38;5;241m100\u001b[39m)\n",
      "\u001b[1;31mTypeError\u001b[0m: list indices must be integers or slices, not list"
     ]
    }
   ],
   "source": [
    "# Remove any % characters, change string values to numeric values\n",
    "data[[\"Return on Assets\"]] = data[[\"Return on Assets\"]].apply(lambda x: x.str.replace('[%]','', regex=True))\n",
    "data[[\"Return on Assets\", \n",
    "      \"Rev per share\"]] = data[[\"Return on Assets\", \n",
    "                                   \"Rev per share\"]].apply(pd.to_numeric)\n",
    "data[[\"Return on Assets\"]] = data[[\"Return on Assets\"]].apply(lambda x: x/100)\n",
    "data.index.name = 'ID'\n",
    "\n",
    "data"
   ]
  },
  {
   "cell_type": "code",
   "execution_count": null,
   "id": "b912eb90",
   "metadata": {},
   "outputs": [],
   "source": [
    "##Analyze the data, clean it and visualize it\n",
    "data.describe()"
   ]
  },
  {
   "cell_type": "code",
   "execution_count": null,
   "id": "d780de84",
   "metadata": {},
   "outputs": [],
   "source": [
    "# Make a copy of the original data before starting our data preprocessing\n",
    "original_data=data.copy()\n",
    "data=data.dropna()\n",
    "data"
   ]
  },
  {
   "cell_type": "code",
   "execution_count": null,
   "id": "3d59050a",
   "metadata": {},
   "outputs": [],
   "source": [
    "# Visualize scatterplot\n",
    "plt.style.use(\"dark_background\")\n",
    "g = sns.scatterplot(x='Return on Assets', y='Rev per share', data=data)\n",
    "plt.ylim([0,200])\n",
    "plt.title(\"Original Data\")\n",
    "\n",
    "# Some random point we want to classify\n",
    "plt.scatter(0.05, 50, marker='o', s=80, color='red')"
   ]
  },
  {
   "cell_type": "code",
   "execution_count": null,
   "id": "f01345a0",
   "metadata": {},
   "outputs": [],
   "source": [
    "# Both Revenue per share and Return on Assets are ratios. They are already scaled to the company size.\n",
    "# We can use Winsorization to transforms data by limiting extreme values, typically by setting all outliers to a specified percentile of data\n",
    "X =np.asarray([np.asarray(data['Return on Assets']),np.asarray(data['Rev per share'])])\n",
    "X = mstats.winsorize(X, limits = [0.05, 0.05])\n",
    "data=pd.DataFrame(X, index=['Return on Assets','Rev per share'], columns=data.index).T\n",
    "data.head()"
   ]
  },
  {
   "cell_type": "code",
   "execution_count": null,
   "id": "4b903736",
   "metadata": {},
   "outputs": [],
   "source": [
    "# Visualize scatterplot\n",
    "plt.style.use(\"dark_background\")\n",
    "g = sns.scatterplot(x='Return on Assets', y='Rev per share', data=data)\n",
    "plt.title(\"Winsorized Data\")\n",
    "\n",
    "# Some random point we want to classify\n",
    "plt.scatter(0.05, 50, marker='o', s=80, color='red')\n",
    "plt.show()"
   ]
  },
  {
   "cell_type": "markdown",
   "id": "4a293e7e",
   "metadata": {},
   "source": [
    "## Choose K\n",
    "The two most common methods to choose K ( the appropriate number of clusters) are :\n",
    "\n",
    "The silhouette Coefficient\n",
    "The Elbow Method\n",
    "The silhouette coefficient is a value that ranges between -1 and 1. It quantifies how well a data point fits into its assigned cluster based on two factors:\n",
    "\n",
    "How close the data point is to other points in the cluster\n",
    "How far away the data point is from points in other clusters\n",
    "Larger numbers for Silhouette coefficient indicate that samples are closer to their clusters than they are to other clusters.\n",
    "\n",
    "The elbow method is used by running several k-means, increment k with each iteration, and record the SSE ( Sum Of Squared Error)\n",
    "\n",
    "\n",
    "After that , we plot SSE as a function of the number of clusters. SSE continues to decrease as you increase k. As more centroids are added, the distance from each point to its closest centroid will decrease. There’s a sweet spot where the SSE curve starts to bend known as the elbow point. The x-value of this point is thought to be a reasonable trade-off between error and number of clusters."
   ]
  },
  {
   "cell_type": "code",
   "execution_count": null,
   "id": "36e7ac31",
   "metadata": {},
   "outputs": [],
   "source": [
    "distorsions = []\n",
    "clusters_iterations=range(2, 20)\n",
    "for k in clusters_iterations:\n",
    "    k_means = KMeans(n_clusters=k)\n",
    "    k_means.fit(data)\n",
    "    distorsions.append(k_means.inertia_)"
   ]
  },
  {
   "cell_type": "code",
   "execution_count": null,
   "id": "21267851",
   "metadata": {},
   "outputs": [],
   "source": [
    "elbow_curve_data=pd.DataFrame(zip(clusters_iterations,distorsions),columns=['Cluster','SSE']).set_index('Cluster')\n",
    "elbow_curve_data.head()"
   ]
  },
  {
   "cell_type": "code",
   "execution_count": null,
   "id": "7b781205",
   "metadata": {},
   "outputs": [],
   "source": [
    "# Visualize plot\n",
    "plt.figure(figsize=(11,7))\n",
    "plt.style.use(\"dark_background\")\n",
    "plt.plot(elbow_curve_data['SSE'])\n",
    "plt.title(\"Elbow Curve\")\n",
    "\n",
    "plt.show()"
   ]
  },
  {
   "cell_type": "code",
   "execution_count": null,
   "id": "fbe44ee6",
   "metadata": {},
   "outputs": [],
   "source": [
    "# get elbow programmatically\n",
    "from kneed import KneeLocator \n",
    "kl = KneeLocator(\n",
    "clusters_iterations, distorsions, curve=\"convex\", direction=\"decreasing\")\n",
    "elbow=kl.elbow\n",
    "\n",
    "print('Elbow = {}'.format(elbow))"
   ]
  },
  {
   "cell_type": "markdown",
   "id": "6ab45fb5",
   "metadata": {},
   "source": [
    "4. Analyze the clustering results"
   ]
  },
  {
   "cell_type": "code",
   "execution_count": null,
   "id": "83cbb6de",
   "metadata": {},
   "outputs": [],
   "source": [
    "# We apply KMeans for the Elbow's value  ( in this case = 5)\n",
    "kmeans = KMeans(n_clusters=elbow)\n",
    "kmeans.fit(data)\n",
    "y_kmeans = kmeans.predict(data)\n",
    "df_kmeans = data.copy()\n",
    "df_kmeans['cluster']=y_kmeans.astype(str)"
   ]
  },
  {
   "cell_type": "code",
   "execution_count": null,
   "id": "64226f05",
   "metadata": {},
   "outputs": [],
   "source": [
    "# Visualize the results\n",
    "plt.style.use(\"dark_background\")\n",
    "g = sns.scatterplot(x='Return on Assets', y='Rev per share', hue=df_kmeans['cluster'].astype(int), \n",
    "                    palette=['blue','green','yellow','orange','red'], data=df_kmeans)\n",
    "plt.title(\"K-Means Clustering\")\n",
    "\n",
    "# Some random point we want to classify\n",
    "plt.show()"
   ]
  },
  {
   "cell_type": "code",
   "execution_count": null,
   "id": "95a25adf",
   "metadata": {},
   "outputs": [],
   "source": [
    "# see the centers \n",
    "clusters_centers_df=pd.DataFrame(kmeans.cluster_centers_,columns=['Return on Assets','Rev per share'])\n",
    "clusters_centers_df"
   ]
  },
  {
   "cell_type": "code",
   "execution_count": null,
   "id": "9af03ae7",
   "metadata": {},
   "outputs": [],
   "source": [
    "# See the clustering by Company \n",
    "clustering_result=pd.DataFrame(zip(y_kmeans,data.index),columns=['Cluster','Company'])\n",
    "clustering_result.set_index('Cluster').head()"
   ]
  },
  {
   "cell_type": "code",
   "execution_count": null,
   "id": "83368010",
   "metadata": {},
   "outputs": [],
   "source": [
    "for cluster_num in list(clustering_result.set_index('Cluster').index.unique()):\n",
    "    print (clustering_result.set_index('Cluster').loc[cluster_num].head())"
   ]
  },
  {
   "cell_type": "code",
   "execution_count": null,
   "id": "171549e1",
   "metadata": {},
   "outputs": [],
   "source": [
    "# Enrich Centers Df with the number of elements by Cluster\n",
    "clusters_centers_df['Count']=clustering_result['Cluster'].value_counts().to_frame().rename(columns={'Cluster':'Count'})['Count']\n",
    "clusters_centers_df.head()"
   ]
  },
  {
   "cell_type": "code",
   "execution_count": null,
   "id": "82750a75",
   "metadata": {},
   "outputs": [],
   "source": [
    "# Visualize Count of Elements by Cluster \n",
    "plt.figure(figsize=(11,7))\n",
    "plt.style.use(\"dark_background\")\n",
    "plt.bar(clusters_centers_df.index.values,clusters_centers_df['Count'])\n",
    "plt.title(\"Count of Elements by Cluster\")\n",
    "\n",
    "plt.show()"
   ]
  },
  {
   "cell_type": "code",
   "execution_count": null,
   "id": "dcd0cbcf",
   "metadata": {},
   "outputs": [],
   "source": []
  },
  {
   "cell_type": "code",
   "execution_count": null,
   "id": "ff3c675b",
   "metadata": {},
   "outputs": [],
   "source": []
  },
  {
   "cell_type": "code",
   "execution_count": null,
   "id": "650fae0c",
   "metadata": {},
   "outputs": [],
   "source": []
  }
 ],
 "metadata": {
  "kernelspec": {
   "display_name": "Python 3 (ipykernel)",
   "language": "python",
   "name": "python3"
  },
  "language_info": {
   "codemirror_mode": {
    "name": "ipython",
    "version": 3
   },
   "file_extension": ".py",
   "mimetype": "text/x-python",
   "name": "python",
   "nbconvert_exporter": "python",
   "pygments_lexer": "ipython3",
   "version": "3.9.12"
  }
 },
 "nbformat": 4,
 "nbformat_minor": 5
}
