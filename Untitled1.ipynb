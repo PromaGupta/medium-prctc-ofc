{
 "cells": [
  {
   "cell_type": "code",
   "execution_count": 1,
   "id": "0821165d",
   "metadata": {},
   "outputs": [
    {
     "ename": "SyntaxError",
     "evalue": "EOL while scanning string literal (4167327842.py, line 1)",
     "output_type": "error",
     "traceback": [
      "\u001b[1;36m  Input \u001b[1;32mIn [1]\u001b[1;36m\u001b[0m\n\u001b[1;33m    { \"cells\": [ { \"cell_type\": \"code\", \"execution_count\": 513, \"metadata\": {}, \"outputs\": [], \"source\": [ \"from yahooquery import Ticker\\n\", \"import pandas as pd\\n\", \"\\n\", \"sp500 = Ticker(\\\"^GSPC\\\").history(period='21Y', interval='1d')\\n\", \"sp500 = sp500.reset_index()\\n\", \"sp500[\\\"date\\\"] = pd.to_datetime(sp500[\\\"date\\\"])\\n\", \"sp500.set_index(\\\"date\\\",inplace=True)\" ] }, { \"cell_type\": \"code\", \"execution_count\": 514, \"metadata\": {}, \"outputs\": [ { \"data\": { \"text/html\": [ \"\u001b[0m\n\u001b[1;37m                                                                                                                                                                                                                                                                                                                                                                                                                                                                                               ^\u001b[0m\n\u001b[1;31mSyntaxError\u001b[0m\u001b[1;31m:\u001b[0m EOL while scanning string literal\n"
     ]
    }
   ],
   "source": [
    "{ \"cells\": [ { \"cell_type\": \"code\", \"execution_count\": 513, \"metadata\": {}, \"outputs\": [], \"source\": [ \"from yahooquery import Ticker\\n\", \"import pandas as pd\\n\", \"\\n\", \"sp500 = Ticker(\\\"^GSPC\\\").history(period='21Y', interval='1d')\\n\", \"sp500 = sp500.reset_index()\\n\", \"sp500[\\\"date\\\"] = pd.to_datetime(sp500[\\\"date\\\"])\\n\", \"sp500.set_index(\\\"date\\\",inplace=True)\" ] }, { \"cell_type\": \"code\", \"execution_count\": 514, \"metadata\": {}, \"outputs\": [ { \"data\": { \"text/html\": [ \"\n",
    "\\n\", \"\n"
   ]
  },
  {
   "cell_type": "code",
   "execution_count": null,
   "id": "a24e1e47",
   "metadata": {},
   "outputs": [],
   "source": []
  }
 ],
 "metadata": {
  "kernelspec": {
   "display_name": "Python 3 (ipykernel)",
   "language": "python",
   "name": "python3"
  },
  "language_info": {
   "codemirror_mode": {
    "name": "ipython",
    "version": 3
   },
   "file_extension": ".py",
   "mimetype": "text/x-python",
   "name": "python",
   "nbconvert_exporter": "python",
   "pygments_lexer": "ipython3",
   "version": "3.9.12"
  }
 },
 "nbformat": 4,
 "nbformat_minor": 5
}
